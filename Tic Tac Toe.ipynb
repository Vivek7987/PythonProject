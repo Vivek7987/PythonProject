{
 "cells": [
  {
   "cell_type": "markdown",
   "id": "e676b530",
   "metadata": {},
   "source": [
    "# All Required Libraries "
   ]
  },
  {
   "cell_type": "code",
   "execution_count": 1,
   "id": "7dff2acc",
   "metadata": {},
   "outputs": [],
   "source": [
    "import tkinter as tk\n",
    "from tkinter import messagebox"
   ]
  },
  {
   "cell_type": "markdown",
   "id": "dfb7656f",
   "metadata": {},
   "source": [
    "# TicTacToe\n"
   ]
  },
  {
   "cell_type": "code",
   "execution_count": 2,
   "id": "ecf03876",
   "metadata": {},
   "outputs": [],
   "source": [
    "class TicTacToe:\n",
    "    def __init__(self):#we are setting the initial state of the Tic Tac Toe\n",
    "        self.current_player = \"X\"#we start with the current player X will play first\n",
    "        self.board = [[\"\" for _ in range(3)] for _ in range(3)]#and then we have created the tkinter window\n",
    "        self.window = tk.Tk()#created the Tkinter for GUI(Graphical User Interface)\n",
    "        self.window.title(\"Tic Tac Toe\")\n",
    "        \n",
    "        self.buttons = []\n",
    "        for i in range(3):\n",
    "            row = []\n",
    "            for j in range(3):\n",
    "#we used nested loop to create a 3*3 grid of buttons for game border.each button is \n",
    "#is associated with the make_move function using a special technique called a \n",
    "#lambda function .this allows us to handle button click \n",
    "                button = tk.Button(self.window, text=\"\", width=20, height=10, command=lambda i=i, j=j: self.make_move(i, j))\n",
    "                button.grid(row=i, column=j)\n",
    "                row.append(button)\n",
    "            self.buttons.append(row)\n",
    "    def make_move(self, row, col):# the make move function will call when a button is clicked in the grid\n",
    "        if self.board[row][col] == \"\":#checking cell is empty\n",
    "            self.board[row][col] = self.current_player\n",
    "            self.buttons[row][col].config(text=self.current_player)\n",
    "            if self.check_winner(self.current_player):\n",
    "                messagebox.showinfo(\"Game Over\", f\"Player {self.current_player} wins!\")\n",
    "                self.window.quit()\n",
    "            elif self.is_board_full():\n",
    "                messagebox.showinfo(\"Game Over\", \"It's a draw!\")\n",
    "                self.window.quit()\n",
    "            else:\n",
    "                self.current_player = \"O\" if self.current_player == \"X\" else \"X\"\n",
    "    def check_winner(self, player):\n",
    "        for i in range(3):\n",
    "# this line check if all the position in the current column are occupied by the player\n",
    " #if this condition is met , it means the olayer has achieve a horizontal  win\n",
    "            if self.board[i][0] == self.board[i][1] == self.board[i][2] == player:\n",
    "                return True\n",
    "# this line check if all the position in the current column are occupied by the player\n",
    "#if this condition is met , it means the olayer has achieve a virtical  win\n",
    "\n",
    "            if self.board[0][i] == self.board[1][i] == self.board[2][i] == player:\n",
    "                return True\n",
    "# this line check if all the position in the current column are occupied by the player \n",
    "#if this condition is met , it means the olayer has achieve a diagonal  win\n",
    "\n",
    "        if self.board[0][0] == self.board[1][1] == self.board[2][2] == player:\n",
    "            return True\n",
    "        if self.board[0][2] == self.board[1][1] == self.board[2][0] == player:\n",
    "            return True\n",
    "        return False\n",
    "    def is_board_full(self):\n",
    "        for row in self.board:\n",
    "            if \"\" in row:\n",
    "                return False\n",
    "        return True\n",
    "    \n",
    "    def run(self):\n",
    "        self.window.mainloop()\n",
    "\n",
    "game = TicTacToe()\n",
    "game.run()\n",
    "    "
   ]
  },
  {
   "cell_type": "code",
   "execution_count": null,
   "id": "55bd7c18",
   "metadata": {},
   "outputs": [],
   "source": []
  },
  {
   "cell_type": "code",
   "execution_count": null,
   "id": "d5793d69",
   "metadata": {},
   "outputs": [],
   "source": []
  }
 ],
 "metadata": {
  "kernelspec": {
   "display_name": "Python 3 (ipykernel)",
   "language": "python",
   "name": "python3"
  },
  "language_info": {
   "codemirror_mode": {
    "name": "ipython",
    "version": 3
   },
   "file_extension": ".py",
   "mimetype": "text/x-python",
   "name": "python",
   "nbconvert_exporter": "python",
   "pygments_lexer": "ipython3",
   "version": "3.9.12"
  }
 },
 "nbformat": 4,
 "nbformat_minor": 5
}
